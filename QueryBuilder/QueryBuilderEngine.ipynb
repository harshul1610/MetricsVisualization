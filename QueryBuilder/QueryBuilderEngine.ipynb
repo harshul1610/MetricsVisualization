{
 "cells": [
  {
   "cell_type": "code",
   "execution_count": 1,
   "metadata": {},
   "outputs": [],
   "source": [
    "import json"
   ]
  },
  {
   "cell_type": "code",
   "execution_count": 10,
   "metadata": {},
   "outputs": [],
   "source": [
    "query_dict = {\n",
    "    'table': 'pint_own.snow_jira_data',\n",
    "    'columns': ['incident_number'],\n",
    "    'aggregation_columns': ['incident_number'],\n",
    "    'aggregation_type': 'count',\n",
    "    'query_filters': {\n",
    "        'filter_type': 'group',\n",
    "        'relation': 'and',\n",
    "        'filters': [\n",
    "            {\n",
    "                'filter_type': 'group',\n",
    "                'relation':'or',\n",
    "                'filters': [\n",
    "                    {\n",
    "                        'filter_type': 'condition',\n",
    "                        'operand' : 'x',\n",
    "                        'operator': '>',\n",
    "                        'value':1,\n",
    "                    },\n",
    "                    {\n",
    "                        'filter_type': 'condition',\n",
    "                        'operand' : 'x',\n",
    "                        'operator': '<',\n",
    "                        'value':-5,\n",
    "                    },\n",
    "                    \n",
    "                ]\n",
    "                \n",
    "            },\n",
    "            {\n",
    "                'filter_type': 'group',\n",
    "                'relation': 'or',\n",
    "                'filters': [\n",
    "                    {\n",
    "                        'filter_type': 'condition',\n",
    "                        'operand':'y',\n",
    "                        'operator':'<',\n",
    "                        'value':2\n",
    "                    },\n",
    "                    {\n",
    "                        'filter_type': 'condition',\n",
    "                        'operand': 'y',\n",
    "                        'operator': '>',\n",
    "                        'value': 10\n",
    "                    }\n",
    "                ]\n",
    "            }\n",
    "        ] \n",
    "    }\n",
    "}"
   ]
  },
  {
   "cell_type": "code",
   "execution_count": 11,
   "metadata": {},
   "outputs": [
    {
     "data": {
      "text/plain": [
       "'select count(incident_number) from pint_own.snow_jira_data where ((x > 1 or x < -5) and (y < 2 or y > 10))'"
      ]
     },
     "execution_count": 11,
     "metadata": {},
     "output_type": "execute_result"
    }
   ],
   "source": [
    "from QueryBuilder import QueryBuilder\n",
    "\n",
    "QueryBuilder('oracle').build_query_from_dict(query_dict)"
   ]
  },
  {
   "cell_type": "code",
   "execution_count": null,
   "metadata": {},
   "outputs": [],
   "source": []
  }
 ],
 "metadata": {
  "kernelspec": {
   "display_name": "Python 3",
   "language": "python",
   "name": "python3"
  },
  "language_info": {
   "codemirror_mode": {
    "name": "ipython",
    "version": 3
   },
   "file_extension": ".py",
   "mimetype": "text/x-python",
   "name": "python",
   "nbconvert_exporter": "python",
   "pygments_lexer": "ipython3",
   "version": "3.5.2"
  }
 },
 "nbformat": 4,
 "nbformat_minor": 2
}
