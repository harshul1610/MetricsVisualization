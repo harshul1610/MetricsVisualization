{
 "cells": [
  {
   "cell_type": "code",
   "execution_count": 1,
   "metadata": {},
   "outputs": [],
   "source": [
    "import json"
   ]
  },
  {
   "cell_type": "code",
   "execution_count": 2,
   "metadata": {},
   "outputs": [],
   "source": [
    "query_dict = {\n",
    "    'table': 'pint_own.snow_jira_data',\n",
    "    'columns': ['incident_number'],\n",
    "    'aggregation_columns': ['incident_number'],\n",
    "    'aggregation_type': 'count',\n",
    "    'filters': [\n",
    "        \n",
    "        {\n",
    "            'var': 'x',\n",
    "            'op': '<',\n",
    "            'val': 1,\n",
    "            'parent_relation':None,\n",
    "            'child_filters': [\n",
    "                    {\n",
    "                    'var': 'x',\n",
    "                    'op': '>',\n",
    "                    'val': 3,\n",
    "                    'parent_relation':None,\n",
    "                    'child_filters': [\n",
    "                            {\n",
    "                        'var': 'y',\n",
    "                        'op': '>',\n",
    "                        'val': 3,\n",
    "                        'parent_relation':None,\n",
    "                        'child_filters': [],\n",
    "                        'child_relation': None\n",
    "                        },\n",
    "\n",
    "                        {\n",
    "                        'var': 'y',\n",
    "                        'op': '<',\n",
    "                        'val': 5,\n",
    "                        'parent_relation':'or',\n",
    "                        'child_filters': [],\n",
    "                        'child_relation': None\n",
    "                        },\n",
    "                    ],\n",
    "                    'child_relation': 'and'\n",
    "                    },\n",
    "                \n",
    "                    {\n",
    "                    'var': 'x',\n",
    "                    'op': '<',\n",
    "                    'val': 5,\n",
    "                    'parent_relation':'or',\n",
    "                    'child_filters': [],\n",
    "                    'child_relation': None\n",
    "                    },\n",
    "                ],\n",
    "            'child_relation': 'and',\n",
    "        },\n",
    "        \n",
    "        {\n",
    "            'var': 'y',\n",
    "            'op': '>',\n",
    "            'val': 1,\n",
    "            'child_filters': [\n",
    "                {\n",
    "                    'var': 'y',\n",
    "                    'op': '>',\n",
    "                    'val': 3,\n",
    "                    'parent_relation':None,\n",
    "                    'child_filters': [],\n",
    "                    'child_relation': None\n",
    "                    },\n",
    "                \n",
    "                    {\n",
    "                    'var': 'y',\n",
    "                    'op': '<',\n",
    "                    'val': 5,\n",
    "                    'parent_relation':'or',\n",
    "                    'child_filters': [],\n",
    "                    'child_relation': None\n",
    "                    },\n",
    "            ],\n",
    "            'child_relation': 'and',\n",
    "            'parent_relation': 'and'\n",
    "        }\n",
    "        \n",
    "    ]\n",
    "}"
   ]
  },
  {
   "cell_type": "code",
   "execution_count": 4,
   "metadata": {},
   "outputs": [
    {
     "data": {
      "text/plain": [
       "'select count(incident_number) from pint_own.snow_jira_data where ((x<1 and ((x>3 and (y>3 or y<5)) or x<5)) and (y>1 and (y>3 or y<5)))'"
      ]
     },
     "execution_count": 4,
     "metadata": {},
     "output_type": "execute_result"
    }
   ],
   "source": [
    "from QueryBuilder import QueryBuilder\n",
    "\n",
    "QueryBuilder('oracle').build_query_from_dict(query_dict)"
   ]
  }
 ],
 "metadata": {
  "kernelspec": {
   "display_name": "Python 3",
   "language": "python",
   "name": "python3"
  },
  "language_info": {
   "codemirror_mode": {
    "name": "ipython",
    "version": 3
   },
   "file_extension": ".py",
   "mimetype": "text/x-python",
   "name": "python",
   "nbconvert_exporter": "python",
   "pygments_lexer": "ipython3",
   "version": "3.5.2"
  }
 },
 "nbformat": 4,
 "nbformat_minor": 2
}
